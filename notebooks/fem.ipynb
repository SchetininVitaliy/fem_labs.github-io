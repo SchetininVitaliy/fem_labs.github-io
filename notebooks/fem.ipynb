{
 "cells": [
  {
   "cell_type": "markdown",
   "id": "23be9f41-8007-4bc7-b291-813332d94dfa",
   "metadata": {},
   "source": [
    "# МКЭ для решения линейного эллиптического уравнения"
   ]
  },
  {
   "cell_type": "markdown",
   "id": "d2df265a-9cfd-4568-8814-6e184f44712e",
   "metadata": {},
   "source": [
    "## Задача c граничными условиями Дирихле\n",
    "\n",
    "Необходимо найти поле перемещений $u(x)$ в балке длиной $L=1[м]$, один конец которой зафиксирован, а второй перемещен на 0.01[м]. Балка испытывает инерционную нагрузку от ускорения $a=100[м/c^2]$. Плотность балки распределена по закону $\\rho(x) = x + 2.7e7[кг/м^3]$. Модуль Юнга балки $E = 70e9[Па]$.\n",
    "\n",
    "![fd_1d_task_1](../images/fd_1d_task_1.svg)\n",
    "\n",
    "\n",
    "### Формулировка математической модели:\n",
    "\n",
    "\\begin{align}\n",
    "&\\frac{\\partial}{\\partial x} \\left( E \\frac{\\partial u}{\\partial x}\\right) + f = 0 \\\\\n",
    "&u(0) = 0, u(1) = 0.01 \\\\\n",
    "&E = 70e9 \\\\\n",
    "&f = a * \\rho(x) = f_a * x + f_b = 1e2 * x + 2.7e9\n",
    "\\end{align}\n",
    "\n",
    "### Аналитическое решение"
   ]
  },
  {
   "cell_type": "code",
   "execution_count": 1,
   "id": "f9d2225c-4401-4c00-9321-c9bdc7022685",
   "metadata": {},
   "outputs": [
    {
     "data": {
      "image/png": "[encoded data removed]",
      "text/latex": [
       "$\\displaystyle u{\\left(x \\right)} = - \\frac{x^{3}}{4200000000} - \\frac{27 x^{2}}{1400} + 0.0292857145238095 x$"
      ],
      "text/plain": [
       "              3           2                       \n",
       "             x        27⋅x                        \n",
       "u(x) = - ────────── - ───── + 0.0292857145238095⋅x\n",
       "         4200000000    1400                       "
      ]
     },
     "metadata": {},
     "output_type": "display_data"
    }
   ],
   "source": [
    "import sympy as sp\n",
    "sp.init_printing()\n",
    "\n",
    "u = sp.Function('u')\n",
    "x = sp.symbols('x')\n",
    "\n",
    "E = 70000000000\n",
    "f_a = 100\n",
    "f_b = 2700000000\n",
    "f =  f_a * x + f_b\n",
    "u_s = 0\n",
    "u_t = 0.01\n",
    "\n",
    "equation = (E * u(x).diff(x, 1)).diff(x, 1) + f\n",
    "\n",
    "exact = sp.dsolve(equation, \n",
    "                  ics={u(0):u_s,\n",
    "                       u(1):u_t})\n",
    "display(exact)"
   ]
  },
  {
   "cell_type": "code",
   "execution_count": 2,
   "id": "a6806591-830f-4933-82f7-5a62ff51090b",
   "metadata": {},
   "outputs": [
    {
     "data": {
      "text/plain": [
       "Text(0, 0.5, 'u')"
      ]
     },
     "execution_count": 2,
     "metadata": {},
     "output_type": "execute_result"
    },
    {
     "data": {
      "image/png": "[encoded data removed]",
      "text/plain": [
       "<Figure size 432x288 with 1 Axes>"
      ]
     },
     "metadata": {
      "needs_background": "light"
     },
     "output_type": "display_data"
    }
   ],
   "source": [
    "import numpy as np\n",
    "import matplotlib.pyplot as plt\n",
    "\n",
    "x_exact = np.arange(0., 1.05, 0.05)\n",
    "plt.plot(x_exact, [exact.rhs.subs({x:i}) for i in x_exact])\n",
    "plt.xlabel('x')\n",
    "plt.ylabel('u')"
   ]
  },
  {
   "cell_type": "markdown",
   "id": "a3a8d731-54cd-469b-9d6f-039895d614a7",
   "metadata": {},
   "source": [
    "### Численное решение\n",
    "\n",
    "Для общности и краткости изложения запишем уравнение через оператор Лапласа:\n",
    "\n",
    "\\begin{align}\n",
    "E \\nabla^2 u + f = 0.\n",
    "\\end{align}\n",
    "\n",
    "1. Переход к вариационной формулировке задачи:\n",
    "\n",
    "* Введем весовые функции $v$ принадлежащие пространству функций $\\hat{V} = \\{v \\in H^1(\\Omega)|v = 0;  x \\in \\partial\\Omega_u\\}$, где $\\Omega$ - вычислительный домен; $\\partial\\Omega_u$ - граница домена, на которой заданы граничные условия Дирихле; $H^1(\\Omega)$ - Соболевское функциональное пространство. \n",
    "\n",
    "* Умножим уравнение на весовую функцию $v$ и интегрируем по всему домену $\\Omega$:\n",
    "\n",
    "\\begin{align}\n",
    "\\int_{\\Omega} E \\nabla^2 u v dx + \\int_{\\Omega} f v dx   = 0.\n",
    "\\end{align}\n",
    "\n",
    "* Используем интегрирование по частям, чтобы понизить степень производной:\n",
    "\n",
    "\\begin{align}\n",
    "-\\int_{\\Omega} E \\nabla u \\nabla v dx + \\int_{\\partial\\Omega} E \\frac{\\partial u}{\\partial n} v dS + \\int_{\\Omega} f v dx   = 0.\n",
    "\\end{align}\n",
    "\n",
    "\\begin{align}\n",
    "\\int_{\\Omega} E \\nabla u \\nabla v dx = \\int_{\\partial\\Omega} E \\frac{\\partial u}{\\partial n} v dS + \\int_{\\Omega} f v dx.\n",
    "\\end{align}\n",
    "\n",
    "* Выберем пространство функций, которому принадлежит решение:\n",
    "\n",
    "\\begin{align}\n",
    "V = \\{u \\in H^1(\\Omega)|u = u_g;  x \\in \\partial\\Omega_u\\}\n",
    "\\end{align}\n",
    "\n",
    "2. Операторная формулировка вариационной задачи:\n",
    "\n",
    "\\begin{align}\n",
    "a(u, v) = L(v) \\\\\n",
    "v \\in \\hat{V}, u \\in V,\n",
    "\\end{align}\n",
    "\n",
    "где\n",
    "\n",
    "\\begin{align}\n",
    "a(u, v) &= \\int_{\\Omega} E \\nabla u \\nabla v dx \\\\\n",
    "L(v) &=  \\int_{\\partial\\Omega} E \\frac{\\partial u}{\\partial n} v dS + \\int_{\\Omega} f v dx.\n",
    "\\end{align}\n",
    "\n",
    "3. Построим сетку:"
   ]
  },
  {
   "cell_type": "code",
   "execution_count": 3,
   "id": "b3c6c6ac-6563-4c52-b32b-2ed6cfac656d",
   "metadata": {},
   "outputs": [],
   "source": [
    "from mpi4py import MPI\n",
    "from dolfinx import mesh\n",
    "domain = mesh.create_interval(MPI.COMM_WORLD, 8, [0, 1])"
   ]
  },
  {
   "cell_type": "markdown",
   "id": "10892b36-de68-48df-bbda-9f69212226eb",
   "metadata": {},
   "source": [
    "4. Введем пространство функций для Лагражева семейства конечных элементов (\"CG\") с одной степенью свободы в узле:"
   ]
  },
  {
   "cell_type": "code",
   "execution_count": 4,
   "id": "92630672-b689-4b64-b72e-3ad67dc6730e",
   "metadata": {},
   "outputs": [],
   "source": [
    "from dolfinx.fem import FunctionSpace\n",
    "V = FunctionSpace(domain, (\"CG\", 1))"
   ]
  },
  {
   "cell_type": "markdown",
   "id": "48ad503f-06c4-4a74-be37-b577e690f88f",
   "metadata": {},
   "source": [
    "5. Введем функцию решения и функцию весов:"
   ]
  },
  {
   "cell_type": "code",
   "execution_count": 5,
   "id": "fc911dde-5102-4f23-ba2b-653a81762f25",
   "metadata": {},
   "outputs": [],
   "source": [
    "import ufl\n",
    "u = ufl.TrialFunction(V)\n",
    "v = ufl.TestFunction(V)"
   ]
  },
  {
   "cell_type": "markdown",
   "id": "691994b9-98a5-4559-abf3-5a3aa2145c06",
   "metadata": {},
   "source": [
    "6. Создадим билинейную форму вариационной задачи $a(u, v)$:"
   ]
  },
  {
   "cell_type": "code",
   "execution_count": 6,
   "id": "d37cac92-f9ad-4ed8-bf35-41e18d4f6d96",
   "metadata": {},
   "outputs": [],
   "source": [
    "from dolfinx.fem import Constant, Function\n",
    "from petsc4py.PETSc import ScalarType\n",
    "\n",
    "E = Constant(domain, ScalarType(70e9))\n",
    "\n",
    "a = ufl.inner(E * ufl.grad(u), ufl.grad(v)) * ufl.dx"
   ]
  },
  {
   "cell_type": "markdown",
   "id": "73579070-658e-472f-99ac-133c004d6872",
   "metadata": {},
   "source": [
    "7. Создадим линейную форму задачи $L(v)$:"
   ]
  },
  {
   "cell_type": "code",
   "execution_count": 7,
   "id": "e6dccbc9-fc90-4257-a4b0-fd5c4b7d9bcc",
   "metadata": {},
   "outputs": [],
   "source": [
    "f = Function(V)\n",
    "f.interpolate(lambda x: 1e2 * x[0] + 2.7e9)\n",
    "\n",
    "L = ufl.inner(f, v) * ufl.dx"
   ]
  },
  {
   "cell_type": "markdown",
   "id": "a1eeec77-fb6c-4c4c-a1d5-86954cc23094",
   "metadata": {},
   "source": [
    "8. Создадим систему граничных условий Дирихле"
   ]
  },
  {
   "cell_type": "code",
   "execution_count": 8,
   "id": "28467e97-2f3b-4e85-b57f-883cf05a3c4e",
   "metadata": {},
   "outputs": [],
   "source": [
    "from dolfinx.fem import locate_dofs_geometrical, dirichletbc\n",
    "from petsc4py.PETSc import ScalarType\n",
    "import numpy as np\n",
    "\n",
    "dofs_L = locate_dofs_geometrical(V, lambda x: np.isclose(x[0], 0))\n",
    "dofs_R = locate_dofs_geometrical(V, lambda x: np.isclose(x[0], 1.))\n",
    "\n",
    "bc_L = dirichletbc(ScalarType(0), dofs_L, V)\n",
    "bc_R = dirichletbc(ScalarType(0.01), dofs_R, V)"
   ]
  },
  {
   "cell_type": "markdown",
   "id": "ed9d0778-29d1-48aa-864e-cbeeb966f4e6",
   "metadata": {},
   "source": [
    "9. Решим линейную систему"
   ]
  },
  {
   "cell_type": "code",
   "execution_count": 9,
   "id": "c44fd053-9266-4cf3-b2f1-ef25d9305091",
   "metadata": {},
   "outputs": [],
   "source": [
    "import dolfinx.fem as fem\n",
    "problem = fem.petsc.LinearProblem(a, L, bcs=[bc_L, bc_R], petsc_options={\"ksp_type\": \"preonly\", \"pc_type\": \"lu\"})\n",
    "uh = problem.solve()"
   ]
  },
  {
   "cell_type": "markdown",
   "id": "9a57d302-4e7b-430a-a59a-0bd759cf0630",
   "metadata": {},
   "source": [
    "10. Анализ результата"
   ]
  },
  {
   "cell_type": "code",
   "execution_count": 10,
   "id": "be5951e8-0499-4e97-a836-e924f05e909f",
   "metadata": {},
   "outputs": [
    {
     "data": {
      "text/plain": [
       "Text(0, 0.5, 'u')"
      ]
     },
     "execution_count": 10,
     "metadata": {},
     "output_type": "execute_result"
    },
    {
     "data": {
      "image/png": "[encoded data removed]",
      "text/plain": [
       "<Figure size 432x288 with 1 Axes>"
      ]
     },
     "metadata": {
      "needs_background": "light"
     },
     "output_type": "display_data"
    }
   ],
   "source": [
    "import numpy as np\n",
    "import matplotlib.pyplot as plt\n",
    "\n",
    "fig = plt.figure()\n",
    "plt.plot(x_exact, [exact.rhs.subs({x:i}) for i in x_exact], label='exact')\n",
    "x_nodes = np.arange(0., 1. + 1. / 8., 1. / 8.)\n",
    "plt.scatter(x_nodes, uh.x.array.real, label='fem')\n",
    "plt.legend()\n",
    "plt.xlabel('x')\n",
    "plt.ylabel('u')"
   ]
  },
  {
   "cell_type": "markdown",
   "id": "02bf982f-924a-40d4-ad76-72c5becd58a0",
   "metadata": {},
   "source": [
    "## Задача c граничным условием Неймана\n",
    "\n",
    "\n",
    "Необходимо найти поле перемещений $u(x)$ в балке длиной $L=1[м]$, один конец которой зафиксирован, а ко второму приложена сила растягивающая напряжение $t = 1e9[Па]$. Балка испытывает инерционную нагрузку от ускорения $a=100[м/c^2]$. Плотность балки распределена по закону $\\rho(x) = x + 2.7e7[кг/м^3]$. Модуль Юнга балки $E = 70e9[Па]$.\n",
    "\n",
    "![fd_1d_task_2](../images/fd_1d_task_2.svg)\n",
    "\n",
    "### Формулировка математической модели\n",
    "\n",
    "\\begin{align}\n",
    "&\\frac{\\partial}{\\partial x} \\left( E \\frac{\\partial u}{\\partial x} \\right) + f = 0 \\\\\n",
    "&u(0) = 0, \\left.E\\frac{\\partial u(x)}{\\partial x}\\right|_{x=1}  = t \\\\\n",
    "&E = 70e9 \\\\\n",
    "&f = a * \\rho(x) = f_a * x + f_b = 1e2 * x + 2.7e9 \\\\\n",
    "&t = -1.\n",
    "\\end{align}\n",
    "\n",
    "\n",
    "### Аналитическое решение"
   ]
  },
  {
   "cell_type": "code",
   "execution_count": 11,
   "id": "35e85d67-07c6-4bc4-b47b-583626274244",
   "metadata": {},
   "outputs": [
    {
     "data": {
      "image/png": "[encoded data removed]",
      "text/latex": [
       "$\\displaystyle u{\\left(x \\right)} = - \\frac{x^{3}}{4200000000} - \\frac{27 x^{2}}{1400} + 0.0528571435714286 x$"
      ],
      "text/plain": [
       "              3           2                       \n",
       "             x        27⋅x                        \n",
       "u(x) = - ────────── - ───── + 0.0528571435714286⋅x\n",
       "         4200000000    1400                       "
      ]
     },
     "metadata": {},
     "output_type": "display_data"
    }
   ],
   "source": [
    "import sympy as sp\n",
    "sp.init_printing()\n",
    "\n",
    "u = sp.Function('u')\n",
    "x = sp.symbols('x')\n",
    "\n",
    "E = 70000000000\n",
    "f_a = 100\n",
    "f_b = 2700000000\n",
    "f =  f_a * x + f_b\n",
    "u_s = 0.\n",
    "t = 1e9\n",
    "\n",
    "equation = (E * u(x).diff(x, 1)).diff(x, 1) + f\n",
    "\n",
    "exact = sp.dsolve(equation,\n",
    "                  ics={u(0):u_s, \n",
    "                       u(x).diff(x).subs(x, 1):t / E})\n",
    "display(exact)"
   ]
  },
  {
   "cell_type": "code",
   "execution_count": 18,
   "id": "8196ad0f-9e55-43e6-948c-46b4f39d8c9e",
   "metadata": {},
   "outputs": [],
   "source": [
    "from mpi4py import MPI\n",
    "from dolfinx import mesh\n",
    "num_elements = 8\n",
    "domain = mesh.create_interval(MPI.COMM_WORLD, num_elements, [0, 1])\n",
    "\n",
    "from dolfinx.fem import FunctionSpace\n",
    "V = FunctionSpace(domain, (\"CG\", 1))\n",
    "\n",
    "import ufl\n",
    "u = ufl.TrialFunction(V)\n",
    "v = ufl.TestFunction(V)\n",
    "\n",
    "from dolfinx.fem import Constant, Function\n",
    "from petsc4py.PETSc import ScalarType\n",
    "\n",
    "E = Constant(domain, ScalarType(70e9))\n",
    "\n",
    "a = ufl.inner(E * ufl.grad(u), ufl.grad(v)) * ufl.dx"
   ]
  },
  {
   "cell_type": "markdown",
   "id": "84b0996e-334f-49ba-a592-77ab654c9d56",
   "metadata": {},
   "source": [
    "Подготовим субдомен границы, на котором прикладываются граничные условия Неймана:"
   ]
  },
  {
   "cell_type": "code",
   "execution_count": 13,
   "id": "561f9d09-db00-41bf-b02e-01927f99fa59",
   "metadata": {},
   "outputs": [],
   "source": [
    "from dolfinx.mesh import locate_entities_boundary\n",
    "from dolfinx.mesh import meshtags\n",
    "\n",
    "right_boundary = locate_entities_boundary(domain, domain.topology.dim-1, lambda x: np.isclose(x[0], 1.))\n",
    "mesh_tags = meshtags(domain, domain.topology.dim-1, right_boundary, 1)\n",
    "dS = ufl.Measure('ds', subdomain_data=mesh_tags, domain=domain)"
   ]
  },
  {
   "cell_type": "code",
   "execution_count": 14,
   "id": "6934c6dc-4f84-4de4-a332-c9a1a2d2a4af",
   "metadata": {},
   "outputs": [],
   "source": [
    "f = fem.Function(V)\n",
    "f.interpolate(lambda x: 1e2 * x[0] + 2.7e9)\n",
    "\n",
    "t = Constant(domain, ScalarType(1e9))\n",
    "L = ufl.inner(f, v) * ufl.dx + ufl.inner(t, v) * dS(1)"
   ]
  },
  {
   "cell_type": "code",
   "execution_count": 19,
   "id": "6b96decd-cf7e-4315-913c-6ba897b4c89d",
   "metadata": {},
   "outputs": [],
   "source": [
    "from dolfinx.fem import locate_dofs_geometrical, dirichletbc\n",
    "from petsc4py.PETSc import ScalarType\n",
    "import numpy as np\n",
    "\n",
    "dofs_L = locate_dofs_geometrical(V, lambda x: np.isclose(x[0], 0))\n",
    "bc_L = dirichletbc(ScalarType(0), dofs_L, V)"
   ]
  },
  {
   "cell_type": "code",
   "execution_count": 20,
   "id": "2d2d9f84-068e-4b65-8ecd-50c299d5a50f",
   "metadata": {},
   "outputs": [],
   "source": [
    "import dolfinx.fem as fem\n",
    "problem = fem.petsc.LinearProblem(a, L, bcs=[bc_L], petsc_options={\"ksp_type\": \"preonly\", \"pc_type\": \"lu\"})\n",
    "uh = problem.solve()"
   ]
  },
  {
   "cell_type": "code",
   "execution_count": 21,
   "id": "51e93f2e-8eab-46c8-92ad-eb0b1576785d",
   "metadata": {},
   "outputs": [
    {
     "data": {
      "text/plain": [
       "Text(0, 0.5, 'u')"
      ]
     },
     "execution_count": 21,
     "metadata": {},
     "output_type": "execute_result"
    },
    {
     "data": {
      "image/png": "[encoded data removed]",
      "text/plain": [
       "<Figure size 432x288 with 1 Axes>"
      ]
     },
     "metadata": {
      "needs_background": "light"
     },
     "output_type": "display_data"
    }
   ],
   "source": [
    "import numpy as np\n",
    "import matplotlib.pyplot as plt\n",
    "\n",
    "fig = plt.figure()\n",
    "x_nodes = np.arange(0., 1. + 1. / num_elements, 1. / num_elements)\n",
    "plt.plot(x_exact, [exact.rhs.subs({x:i}) for i in x_exact], label='exact')\n",
    "plt.scatter(x_nodes, uh.x.array.real, label='fem')\n",
    "plt.legend()\n",
    "plt.xlabel('x')\n",
    "plt.ylabel('u')"
   ]
  },
  {
   "cell_type": "code",
   "execution_count": null,
   "id": "14a3554b-9756-4180-9c1a-8fb1bbd64e7d",
   "metadata": {},
   "outputs": [],
   "source": []
  }
 ],
 "metadata": {
  "kernelspec": {
   "display_name": "Python 3 (DOLFINx complex)",
   "language": "python",
   "name": "python3-complex"
  },
  "language_info": {
   "codemirror_mode": {
    "name": "ipython",
    "version": 3
   },
   "file_extension": ".py",
   "mimetype": "text/x-python",
   "name": "python",
   "nbconvert_exporter": "python",
   "pygments_lexer": "ipython3",
   "version": "3.9.7"
  }
 },
 "nbformat": 4,
 "nbformat_minor": 5
}
