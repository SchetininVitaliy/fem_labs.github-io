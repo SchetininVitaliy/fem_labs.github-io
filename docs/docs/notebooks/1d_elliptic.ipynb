{
 "cells": [
  {
   "cell_type": "markdown",
   "id": "3615338b",
   "metadata": {},
   "source": [
    "# МКР для решения 1D линейного эллиптического уравнения"
   ]
  },
  {
   "cell_type": "markdown",
   "id": "91ad4abf",
   "metadata": {},
   "source": [
    "## Постановка задачи\n",
    "\n",
    "\\begin{align}\n",
    "&\\frac{\\partial}{\\partial x} E \\frac{\\partial u}{\\partial x} + f = 0 \\\\\n",
    "&u(0) = 0, u(1) = 0.001 \\\\\n",
    "&E = 10. \\\\\n",
    "&f = 2x + 1\n",
    "\\end{align}"
   ]
  },
  {
   "cell_type": "markdown",
   "id": "26a2624c",
   "metadata": {},
   "source": [
    "## Аналитическое решение"
   ]
  },
  {
   "cell_type": "code",
   "execution_count": 1,
   "id": "c7fd1d8d",
   "metadata": {},
   "outputs": [
    {
     "data": {
      "image/png": "[encoded data removed]",
      "text/latex": [
       "$\\displaystyle u{\\left(x \\right)} = - \\frac{x^{3}}{30} - \\frac{x^{2}}{20} + 0.0843333333333333 x$"
      ],
      "text/plain": [
       "          3    2                       \n",
       "         x    x                        \n",
       "u(x) = - ── - ── + 0.0843333333333333⋅x\n",
       "         30   20                       "
      ]
     },
     "execution_count": 1,
     "metadata": {},
     "output_type": "execute_result"
    }
   ],
   "source": [
    "import sympy as sp\n",
    "sp.init_printing()\n",
    "\n",
    "u = sp.Function('u')\n",
    "x = sp.symbols('x')\n",
    "\n",
    "E = 10\n",
    "f = 2 * x + 1\n",
    "\n",
    "equation = (E * u(x).diff(x, 1)).diff(x, 1) + f\n",
    "\n",
    "sp.dsolve(equation, \n",
    "          ics={u(0):0, u(1):0.001})"
   ]
  },
  {
   "cell_type": "code",
   "execution_count": null,
   "id": "c1fb2145",
   "metadata": {},
   "outputs": [],
   "source": []
  }
 ],
 "metadata": {
  "kernelspec": {
   "display_name": "Python 3 (ipykernel)",
   "language": "python",
   "name": "python3"
  },
  "language_info": {
   "codemirror_mode": {
    "name": "ipython",
    "version": 3
   },
   "file_extension": ".py",
   "mimetype": "text/x-python",
   "name": "python",
   "nbconvert_exporter": "python",
   "pygments_lexer": "ipython3",
   "version": "3.9.7"
  }
 },
 "nbformat": 4,
 "nbformat_minor": 5
}
