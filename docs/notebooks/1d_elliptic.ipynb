{
 "cells": [
  {
   "cell_type": "markdown",
   "id": "cc207909",
   "metadata": {},
   "source": [
    "# МКР для решения 1D линейного эллиптического уравнения"
   ]
  },
  {
   "cell_type": "markdown",
   "id": "bc4269bf",
   "metadata": {},
   "source": [
    "## Задача c граничными условиями Дирихле\n",
    "\n",
    "Необходимо найти поле перемещений $u(x)$ в балке длиной $L=1[м]$, один конец которой зафиксирован, а второй перемещен на 0.01[м]. Балка испытывает инерционную нагрузку от ускорения $a=1[м/c^2]$. Плотность балки распределена по закону $\\rho(x) = 2x + 1 [кг/м^3]$. Модуль Юнга балки $E = 10 [Па]$.\n",
    "\n",
    "![fd_1d_task_1](../images/fd_1d_task_1.svg)\n",
    "\n",
    "\n",
    "### Формулировка математической модели:\n",
    "\n",
    "\\begin{align}\n",
    "&\\frac{\\partial}{\\partial x} \\left( E \\frac{\\partial u}{\\partial x}\\right) + f = 0 \\\\\n",
    "&u(0) = 0, u(1) = 0.01 \\\\\n",
    "&E = 10. \\\\\n",
    "&f = a * \\rho(x) = 2x + 1\n",
    "\\end{align}\n",
    "\n",
    "### Аналитическое решение"
   ]
  },
  {
   "cell_type": "code",
   "execution_count": 1,
   "id": "50df3a0e",
   "metadata": {},
   "outputs": [
    {
     "data": {
      "image/png": "[encoded data removed]",
      "text/latex": [
       "$\\displaystyle u{\\left(x \\right)} = - \\frac{x^{3}}{30} - \\frac{x^{2}}{20} + 0.0933333333333333 x$"
      ],
      "text/plain": [
       "          3    2                       \n",
       "         x    x                        \n",
       "u(x) = - ── - ── + 0.0933333333333333⋅x\n",
       "         30   20                       "
      ]
     },
     "metadata": {},
     "output_type": "display_data"
    }
   ],
   "source": [
    "import sympy as sp\n",
    "sp.init_printing()\n",
    "\n",
    "u = sp.Function('u')\n",
    "x = sp.symbols('x')\n",
    "\n",
    "E = 10\n",
    "f = 2 * x + 1\n",
    "u_s = 0\n",
    "u_t = 0.01\n",
    "\n",
    "equation = (E * u(x).diff(x, 1)).diff(x, 1) + f\n",
    "\n",
    "exact = sp.dsolve(equation, \n",
    "                  ics={u(0):u_s,\n",
    "                       u(1):u_t})\n",
    "display(exact)"
   ]
  },
  {
   "cell_type": "code",
   "execution_count": 2,
   "id": "f86ef7a1",
   "metadata": {},
   "outputs": [
    {
     "data": {
      "text/plain": [
       "Text(0, 0.5, 'u')"
      ]
     },
     "execution_count": 2,
     "metadata": {},
     "output_type": "execute_result"
    },
    {
     "data": {
      "image/png": "[encoded data removed]",
      "text/plain": [
       "<Figure size 432x288 with 1 Axes>"
      ]
     },
     "metadata": {
      "needs_background": "light"
     },
     "output_type": "display_data"
    }
   ],
   "source": [
    "import numpy as np\n",
    "import matplotlib.pyplot as plt\n",
    "\n",
    "x_exact = np.arange(0., 1.05, 0.05)\n",
    "plt.plot(x_exact, [exact.rhs.subs({x:i}) for i in x_exact])\n",
    "plt.xlabel('x')\n",
    "plt.ylabel('u')"
   ]
  },
  {
   "cell_type": "markdown",
   "id": "c9157029",
   "metadata": {},
   "source": [
    "### Численное решение\n",
    "\n",
    "1. Определяем узлы конечно-разностной сетки"
   ]
  },
  {
   "cell_type": "code",
   "execution_count": 3,
   "id": "fb58ae05",
   "metadata": {},
   "outputs": [
    {
     "name": "stdout",
     "output_type": "stream",
     "text": [
      "[0.0, 0.16666666666666666, 0.3333333333333333, 0.5, 0.6666666666666666, 0.8333333333333333, 1.0]\n"
     ]
    }
   ],
   "source": [
    "n = 6 # количество узлов\n",
    "h = 1./n # шаг конечной разности\n",
    "x_nodes = [i * h for i in range(n + 1)]\n",
    "print(x_nodes)"
   ]
  },
  {
   "cell_type": "markdown",
   "id": "de7da1b3",
   "metadata": {},
   "source": [
    "2. Определяем искомую функцию и ее аппроксимацию в узлах"
   ]
  },
  {
   "cell_type": "code",
   "execution_count": 4,
   "id": "8959adbb",
   "metadata": {},
   "outputs": [
    {
     "name": "stdout",
     "output_type": "stream",
     "text": [
      "[u(0), u(1), u(2), u(3), u(4), u(5), u(6)]\n"
     ]
    }
   ],
   "source": [
    "u = sp.Function('u')\n",
    "u_approx = [u(i) for i in range(n + 1)]\n",
    "print(u_approx)"
   ]
  },
  {
   "cell_type": "markdown",
   "id": "f435f44a",
   "metadata": {},
   "source": [
    "3. Используя конечные разности и полагая Е постоянной:\n",
    "\n",
    "\\begin{align}\n",
    "\\frac{\\partial}{\\partial x} \\left(E \\frac{\\partial u_{i}}{\\partial x}\\right) \\approx E \\frac{u_{i+1} - 2u_{i} + u_{i-1}}{h^2}\n",
    "\\end{align}\n",
    "\n",
    "![fd_1d](../images/fd_1d.svg)\n",
    "\n",
    "запишем уравнение для каждого узла:\n",
    "\n",
    "\\begin{align}\n",
    "E \\frac{u_{i+1} - 2u_{i} + u_{i-1}}{h^2} + 2x_i + 1 = 0.\n",
    "\\end{align}"
   ]
  },
  {
   "cell_type": "code",
   "execution_count": 5,
   "id": "c98f099f",
   "metadata": {},
   "outputs": [
    {
     "name": "stdout",
     "output_type": "stream",
     "text": [
      "[-720.0*u(1) + 360.0*u(2) + 1.33333333333333,\n",
      " 360.0*u(1) - 720.0*u(2) + 360.0*u(3) + 1.66666666666667,\n",
      " 360.0*u(2) - 720.0*u(3) + 360.0*u(4) + 2.0,\n",
      " 360.0*u(3) - 720.0*u(4) + 360.0*u(5) + 2.33333333333333,\n",
      " 360.0*u(4) - 720.0*u(5) + 6.26666666666667]\n"
     ]
    }
   ],
   "source": [
    "equations = [(E * (u_approx[i + 1] - 2 * u_approx[i] + u_approx[i - 1])/h**2 + 2. * x_nodes[i] + 1.)\n",
    "             .subs({u(0):u_s, u(n):u_t})\n",
    "             for i in range(1, n)]\n",
    "import pprint\n",
    "pprint.pprint(equations)"
   ]
  },
  {
   "cell_type": "markdown",
   "id": "c5a8bf78",
   "metadata": {},
   "source": [
    "4. Решим систему линейных алгебраических уравнений"
   ]
  },
  {
   "cell_type": "code",
   "execution_count": 6,
   "id": "a11b21cd",
   "metadata": {},
   "outputs": [
    {
     "name": "stdout",
     "output_type": "stream",
     "text": [
      "{(0.0140123456790123, 0.024320987654321, 0.03, 0.0301234567901235, 0.0237654320987654)}\n"
     ]
    }
   ],
   "source": [
    "unknowns = u_approx[1:n] # исключены крайние узлы\n",
    "solution = sp.linsolve(equations, unknowns)\n",
    "print(solution)"
   ]
  },
  {
   "cell_type": "code",
   "execution_count": 7,
   "id": "bd4cf2c7",
   "metadata": {},
   "outputs": [
    {
     "name": "stdout",
     "output_type": "stream",
     "text": [
      "{u(1): 0.0140123456790123, u(2): 0.0243209876543210, u(3): 0.0300000000000000, u(4): 0.0301234567901235, u(5): 0.0237654320987654, u(0): 0, u(6): 0.01}\n"
     ]
    }
   ],
   "source": [
    "solution = list(solution)\n",
    "approx = {u_approx[i+1] : solution[0][i] for i in range(len(solution[0]))}\n",
    "approx.update({u(0):u_s, \n",
    "               u(n):u_t})\n",
    "print(approx)"
   ]
  },
  {
   "cell_type": "markdown",
   "id": "4cc2efd1",
   "metadata": {},
   "source": [
    "### Анализ решения\n"
   ]
  },
  {
   "cell_type": "code",
   "execution_count": 8,
   "id": "b63627df",
   "metadata": {},
   "outputs": [
    {
     "data": {
      "text/plain": [
       "Text(0, 0.5, 'u')"
      ]
     },
     "execution_count": 8,
     "metadata": {},
     "output_type": "execute_result"
    },
    {
     "data": {
      "image/png": "[encoded data removed]",
      "text/plain": [
       "<Figure size 432x288 with 1 Axes>"
      ]
     },
     "metadata": {
      "needs_background": "light"
     },
     "output_type": "display_data"
    }
   ],
   "source": [
    "plt.clf()\n",
    "\n",
    "plt.plot(x_exact, [exact.rhs.subs({x:i}) for i in x_exact], label='exact')\n",
    "plt.scatter(x_nodes, [approx[u_p] for u_p in u_approx], label='approx')\n",
    "plt.legend()\n",
    "plt.xlabel('x')\n",
    "plt.ylabel('u')"
   ]
  },
  {
   "cell_type": "markdown",
   "id": "d693e2af",
   "metadata": {},
   "source": [
    "## Задача c граничным условием Неймана\n",
    "\n",
    "\n",
    "Необходимо найти поле перемещений $u(x)$ в балке длиной $L=1[м]$, один конец которой зафиксирован, а ко второму приложена сила растягивающая сила $t = 1 [Н]$. Балка испытывает инерционную нагрузку от ускорения $a=1[м/c^2]$. Плотность балки распределена по закону $\\rho(x) = 2x + 1 [кг/м^3]$. Модуль Юнга балки $E = 10 [Па]$.\n",
    "\n",
    "![fd_1d_task_1](../images/fd_1d_task_2.svg)\n",
    "\n",
    "### Формулировка математической модели\n",
    "\n",
    "\\begin{align}\n",
    "&\\frac{\\partial}{\\partial x} \\left( E \\frac{\\partial u}{\\partial x} \\right) + f = 0 \\\\\n",
    "&u(0) = 0, \\left.E\\frac{\\partial u(x)}{\\partial x}\\right|_{x=1}  = t \\\\\n",
    "&E = 10. \\\\\n",
    "&f = 2x + 1 \\\\\n",
    "&t = -1.\n",
    "\\end{align}\n",
    "\n",
    "\n",
    "### Аналитическое решение"
   ]
  },
  {
   "cell_type": "code",
   "execution_count": 9,
   "id": "8d9c69bf",
   "metadata": {},
   "outputs": [
    {
     "data": {
      "image/png": "[encoded data removed]",
      "text/latex": [
       "$\\displaystyle u{\\left(x \\right)} = - \\frac{x^{3}}{30} - \\frac{x^{2}}{20} + 0.1 x$"
      ],
      "text/plain": [
       "          3    2        \n",
       "         x    x         \n",
       "u(x) = - ── - ── + 0.1⋅x\n",
       "         30   20        "
      ]
     },
     "metadata": {},
     "output_type": "display_data"
    }
   ],
   "source": [
    "import sympy as sp\n",
    "sp.init_printing()\n",
    "\n",
    "u = sp.Function('u')\n",
    "x = sp.symbols('x')\n",
    "\n",
    "E = 10\n",
    "f = 2 * x + 1\n",
    "u_s = 0.\n",
    "t = -1.\n",
    "\n",
    "equation = (E * u(x).diff(x, 1)).diff(x, 1) + f\n",
    "\n",
    "exact = sp.dsolve(equation, \n",
    "                  ics={u(0):u_s, \n",
    "                       u(x).diff(x).subs(x, 1):t / E})\n",
    "display(exact)"
   ]
  },
  {
   "cell_type": "code",
   "execution_count": 10,
   "id": "fd969b6f",
   "metadata": {},
   "outputs": [
    {
     "data": {
      "text/plain": [
       "Text(0, 0.5, 'u')"
      ]
     },
     "execution_count": 10,
     "metadata": {},
     "output_type": "execute_result"
    },
    {
     "data": {
      "image/png": "[encoded data removed]",
      "text/plain": [
       "<Figure size 432x288 with 1 Axes>"
      ]
     },
     "metadata": {
      "needs_background": "light"
     },
     "output_type": "display_data"
    }
   ],
   "source": [
    "plt.plot(x_exact, [exact.rhs.subs({x:i}) for i in x_exact])\n",
    "plt.xlabel('x')\n",
    "plt.ylabel('u')"
   ]
  },
  {
   "cell_type": "markdown",
   "id": "84d84e22",
   "metadata": {},
   "source": [
    "### Численное решение\n",
    "\n",
    "Граничное условие Неймана в конечно-разностном виде:\n",
    "\n",
    "\\begin{align}\n",
    "E\\frac{\\partial u_i}{\\partial x} = E \\frac{u_i - u_{i-1}}{h} = t\n",
    "\\end{align}"
   ]
  },
  {
   "cell_type": "code",
   "execution_count": 11,
   "id": "b6cdf8a1",
   "metadata": {},
   "outputs": [
    {
     "name": "stdout",
     "output_type": "stream",
     "text": [
      "[-720.0*u(1) + 360.0*u(2) + 1.33333333333333,\n",
      " 360.0*u(1) - 720.0*u(2) + 360.0*u(3) + 1.66666666666667,\n",
      " 360.0*u(2) - 720.0*u(3) + 360.0*u(4) + 2.0,\n",
      " 360.0*u(3) - 720.0*u(4) + 360.0*u(5) + 2.33333333333333,\n",
      " 360.0*u(4) - 720.0*u(5) + 360.0*u(6) + 2.66666666666667,\n",
      " -60.0*u(5) + 60.0*u(6) + 1.0]\n"
     ]
    }
   ],
   "source": [
    "n = 6 # количество узлов\n",
    "h = 1./n # шаг конечной разности\n",
    "x_nodes = [i * h for i in range(n + 1)]\n",
    "\n",
    "u = sp.Function('u')\n",
    "u_approx = [u(i) for i in range(n + 1)]\n",
    "\n",
    "equations = [(E * (u_approx[i + 1] - 2 * u_approx[i] + u_approx[i - 1])/h**2 + 2. * x_nodes[i] + 1.)\n",
    "             .subs({u(0):u_s})\n",
    "             for i in range(1, n)]\n",
    "\n",
    "# Добавляем условие Неймана\n",
    "equations.append(E*(u_approx[n] - u_approx[n-1])/h - t)\n",
    "import pprint\n",
    "pprint.pprint(equations)"
   ]
  },
  {
   "cell_type": "code",
   "execution_count": 12,
   "id": "0055c9c9",
   "metadata": {},
   "outputs": [
    {
     "name": "stdout",
     "output_type": "stream",
     "text": [
      "{(0.0111111111111111, 0.0185185185185185, 0.0212962962962963, 0.0185185185185185, 0.00925925925925925, -0.00740740740740741)}\n",
      "{u(1): 0.0111111111111111, u(2): 0.0185185185185185, u(3): 0.0212962962962963, u(4): 0.0185185185185185, u(5): 0.00925925925925925, u(6): -0.00740740740740741, u(0): 0}\n"
     ]
    }
   ],
   "source": [
    "unknowns = u_approx[1:n+1] # исключен начальный узел\n",
    "solution = sp.linsolve(equations, unknowns)\n",
    "print(solution)\n",
    "solution = list(solution)\n",
    "approx = {u_approx[i+1] : solution[0][i] for i in range(len(solution[0]))}\n",
    "approx.update({u(0):0})\n",
    "print(approx)"
   ]
  },
  {
   "cell_type": "markdown",
   "id": "759b8aec",
   "metadata": {},
   "source": [
    "### Анализ решения"
   ]
  },
  {
   "cell_type": "code",
   "execution_count": 13,
   "id": "8ecb2c21",
   "metadata": {},
   "outputs": [
    {
     "data": {
      "text/plain": [
       "Text(0, 0.5, 'u')"
      ]
     },
     "execution_count": 13,
     "metadata": {},
     "output_type": "execute_result"
    },
    {
     "data": {
      "image/png": "[encoded data removed]",
      "text/plain": [
       "<Figure size 432x288 with 1 Axes>"
      ]
     },
     "metadata": {
      "needs_background": "light"
     },
     "output_type": "display_data"
    }
   ],
   "source": [
    "plt.clf()\n",
    "\n",
    "plt.plot(x_exact, [exact.rhs.subs({x:i}) for i in x_exact], label='exact')\n",
    "plt.scatter(x_nodes, [approx[u_p] for u_p in u_approx], label='approx')\n",
    "plt.legend()\n",
    "plt.xlabel('x')\n",
    "plt.ylabel('u')"
   ]
  },
  {
   "cell_type": "markdown",
   "id": "42c3fafd",
   "metadata": {},
   "source": [
    "## Упражнения\n",
    "\n",
    "1. Аналитически и численно найти поле температур в балке длиной $L=10 [м]$. С одного конца балки поддерживается температура $T_0 = 10[K]$, с другого конца балки температура отводится таким образом, чтобы тепловой поток был постоянен и равен $j_t=1 [Вт/м]$. Коэффициент теплопроводности материала равен 10 [Вт/(м·K)].\n",
    "2. Аналитически и численно найти поле перемещений в вертикальной балке длиной $L=1[м]$. Один конец балки зафиксирван, другой перемещен на 0.1[м]. Модуль Юнга балки равен 10 [Па]. Плотность балки $\\rho=1[кг/м]$. Учесть влияние силы тяжести."
   ]
  },
  {
   "cell_type": "code",
   "execution_count": null,
   "id": "cb4e586a",
   "metadata": {},
   "outputs": [],
   "source": []
  }
 ],
 "metadata": {
  "kernelspec": {
   "display_name": "Python 3 (ipykernel)",
   "language": "python",
   "name": "python3"
  },
  "language_info": {
   "codemirror_mode": {
    "name": "ipython",
    "version": 3
   },
   "file_extension": ".py",
   "mimetype": "text/x-python",
   "name": "python",
   "nbconvert_exporter": "python",
   "pygments_lexer": "ipython3",
   "version": "3.9.7"
  }
 },
 "nbformat": 4,
 "nbformat_minor": 5
}
