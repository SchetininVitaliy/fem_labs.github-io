{
 "cells": [
  {
   "cell_type": "markdown",
   "id": "ec004a80",
   "metadata": {},
   "source": [
    "# МКР для решения 2D линейного эллиптического уравнения скалярного переменного\n",
    "\n",
    "## Краевая задача c граничными условиями Дирихле\n",
    "\n",
    "Необходимо найти поле температуры $T$ в прямоугольной пластине. Значение поля на каждой грани пластины известно. Пластина изотропна и коэффициент теплопроводности $\\lambda=1.$.\n",
    "\n",
    "![fd_2d_task](../images/fd_2d_task.svg)\n",
    "\n",
    "Поле температур будет удовлетворять уравнению:\n",
    "\n",
    "\\begin{align}\n",
    "\\frac{\\partial}{\\partial x_1}\\left(\\lambda \\frac{\\partial T}{\\partial x_1}\\right) + \\frac{\\partial}{\\partial x_2}\\left(\\lambda \\frac{\\partial T}{\\partial x_2}\\right)  = 0.\n",
    "\\end{align}\n",
    "\n",
    "### Численное решение"
   ]
  },
  {
   "cell_type": "code",
   "execution_count": null,
   "id": "e9f1151d",
   "metadata": {},
   "outputs": [],
   "source": []
  }
 ],
 "metadata": {
  "kernelspec": {
   "display_name": "Python 3 (ipykernel)",
   "language": "python",
   "name": "python3"
  },
  "language_info": {
   "codemirror_mode": {
    "name": "ipython",
    "version": 3
   },
   "file_extension": ".py",
   "mimetype": "text/x-python",
   "name": "python",
   "nbconvert_exporter": "python",
   "pygments_lexer": "ipython3",
   "version": "3.9.7"
  }
 },
 "nbformat": 4,
 "nbformat_minor": 5
}
